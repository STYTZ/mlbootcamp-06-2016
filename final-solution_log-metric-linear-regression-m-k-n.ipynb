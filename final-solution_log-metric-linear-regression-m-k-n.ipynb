{
 "cells": [
  {
   "cell_type": "code",
   "execution_count": 1,
   "metadata": {
    "collapsed": false
   },
   "outputs": [],
   "source": [
    "import pandas as pd\n",
    "import numpy as np\n",
    "import matplotlib.pyplot as plt\n",
    "from scipy.optimize import minimize\n",
    "%matplotlib inline"
   ]
  },
  {
   "cell_type": "code",
   "execution_count": 2,
   "metadata": {
    "collapsed": false
   },
   "outputs": [
    {
     "data": {
      "text/html": [
       "<div>\n",
       "<table border=\"1\" class=\"dataframe\">\n",
       "  <thead>\n",
       "    <tr style=\"text-align: right;\">\n",
       "      <th></th>\n",
       "      <th>m</th>\n",
       "      <th>k</th>\n",
       "      <th>n</th>\n",
       "      <th>cacheL1IsShared</th>\n",
       "      <th>cacheL1Size</th>\n",
       "      <th>cacheL2IsShared</th>\n",
       "      <th>cacheL2Size</th>\n",
       "      <th>cacheL3IsShared</th>\n",
       "      <th>cacheL3Size</th>\n",
       "      <th>cacheL1Threads</th>\n",
       "      <th>...</th>\n",
       "      <th>SeqCopy_16MB_by256</th>\n",
       "      <th>SeqCopy_20MB_by256</th>\n",
       "      <th>SeqCopy_21MB_by256</th>\n",
       "      <th>SeqCopy_32MB_by256</th>\n",
       "      <th>SeqCopy_48MB_by256</th>\n",
       "      <th>SeqCopy_64MB_by256</th>\n",
       "      <th>SeqCopy_72MB_by256</th>\n",
       "      <th>SeqCopy_96MB_by256</th>\n",
       "      <th>SeqCopy_128MB_by256</th>\n",
       "      <th>time</th>\n",
       "    </tr>\n",
       "  </thead>\n",
       "  <tbody>\n",
       "    <tr>\n",
       "      <th>0</th>\n",
       "      <td>2500</td>\n",
       "      <td>3500</td>\n",
       "      <td>5000</td>\n",
       "      <td>0</td>\n",
       "      <td>32</td>\n",
       "      <td>0</td>\n",
       "      <td>256</td>\n",
       "      <td>1</td>\n",
       "      <td>10240</td>\n",
       "      <td>2</td>\n",
       "      <td>...</td>\n",
       "      <td>5871.6</td>\n",
       "      <td>5454.5</td>\n",
       "      <td>5201.8</td>\n",
       "      <td>5236.4</td>\n",
       "      <td>5724.8</td>\n",
       "      <td>5236.4</td>\n",
       "      <td>5236.4</td>\n",
       "      <td>6165.1</td>\n",
       "      <td>5120.0</td>\n",
       "      <td>1.016325</td>\n",
       "    </tr>\n",
       "    <tr>\n",
       "      <th>1</th>\n",
       "      <td>2500</td>\n",
       "      <td>4000</td>\n",
       "      <td>4500</td>\n",
       "      <td>0</td>\n",
       "      <td>32</td>\n",
       "      <td>0</td>\n",
       "      <td>256</td>\n",
       "      <td>1</td>\n",
       "      <td>10240</td>\n",
       "      <td>2</td>\n",
       "      <td>...</td>\n",
       "      <td>5871.6</td>\n",
       "      <td>5454.5</td>\n",
       "      <td>5201.8</td>\n",
       "      <td>5236.4</td>\n",
       "      <td>5724.8</td>\n",
       "      <td>5236.4</td>\n",
       "      <td>5236.4</td>\n",
       "      <td>6165.1</td>\n",
       "      <td>5120.0</td>\n",
       "      <td>1.108012</td>\n",
       "    </tr>\n",
       "    <tr>\n",
       "      <th>2</th>\n",
       "      <td>2500</td>\n",
       "      <td>4000</td>\n",
       "      <td>5000</td>\n",
       "      <td>0</td>\n",
       "      <td>32</td>\n",
       "      <td>0</td>\n",
       "      <td>256</td>\n",
       "      <td>1</td>\n",
       "      <td>10240</td>\n",
       "      <td>2</td>\n",
       "      <td>...</td>\n",
       "      <td>5871.6</td>\n",
       "      <td>5454.5</td>\n",
       "      <td>5201.8</td>\n",
       "      <td>5236.4</td>\n",
       "      <td>5724.8</td>\n",
       "      <td>5236.4</td>\n",
       "      <td>5236.4</td>\n",
       "      <td>6165.1</td>\n",
       "      <td>5120.0</td>\n",
       "      <td>1.388898</td>\n",
       "    </tr>\n",
       "    <tr>\n",
       "      <th>3</th>\n",
       "      <td>2500</td>\n",
       "      <td>4500</td>\n",
       "      <td>5000</td>\n",
       "      <td>0</td>\n",
       "      <td>32</td>\n",
       "      <td>0</td>\n",
       "      <td>256</td>\n",
       "      <td>1</td>\n",
       "      <td>10240</td>\n",
       "      <td>2</td>\n",
       "      <td>...</td>\n",
       "      <td>5871.6</td>\n",
       "      <td>5454.5</td>\n",
       "      <td>5201.8</td>\n",
       "      <td>5236.4</td>\n",
       "      <td>5724.8</td>\n",
       "      <td>5236.4</td>\n",
       "      <td>5236.4</td>\n",
       "      <td>6165.1</td>\n",
       "      <td>5120.0</td>\n",
       "      <td>1.368330</td>\n",
       "    </tr>\n",
       "    <tr>\n",
       "      <th>4</th>\n",
       "      <td>2500</td>\n",
       "      <td>5000</td>\n",
       "      <td>5000</td>\n",
       "      <td>0</td>\n",
       "      <td>32</td>\n",
       "      <td>0</td>\n",
       "      <td>256</td>\n",
       "      <td>1</td>\n",
       "      <td>10240</td>\n",
       "      <td>2</td>\n",
       "      <td>...</td>\n",
       "      <td>5871.6</td>\n",
       "      <td>5454.5</td>\n",
       "      <td>5201.8</td>\n",
       "      <td>5236.4</td>\n",
       "      <td>5724.8</td>\n",
       "      <td>5236.4</td>\n",
       "      <td>5236.4</td>\n",
       "      <td>6165.1</td>\n",
       "      <td>5120.0</td>\n",
       "      <td>1.496602</td>\n",
       "    </tr>\n",
       "  </tbody>\n",
       "</table>\n",
       "<p>5 rows × 952 columns</p>\n",
       "</div>"
      ],
      "text/plain": [
       "      m     k     n  cacheL1IsShared  cacheL1Size  cacheL2IsShared  \\\n",
       "0  2500  3500  5000                0           32                0   \n",
       "1  2500  4000  4500                0           32                0   \n",
       "2  2500  4000  5000                0           32                0   \n",
       "3  2500  4500  5000                0           32                0   \n",
       "4  2500  5000  5000                0           32                0   \n",
       "\n",
       "   cacheL2Size  cacheL3IsShared  cacheL3Size  cacheL1Threads    ...     \\\n",
       "0          256                1        10240               2    ...      \n",
       "1          256                1        10240               2    ...      \n",
       "2          256                1        10240               2    ...      \n",
       "3          256                1        10240               2    ...      \n",
       "4          256                1        10240               2    ...      \n",
       "\n",
       "   SeqCopy_16MB_by256  SeqCopy_20MB_by256  SeqCopy_21MB_by256  \\\n",
       "0              5871.6              5454.5              5201.8   \n",
       "1              5871.6              5454.5              5201.8   \n",
       "2              5871.6              5454.5              5201.8   \n",
       "3              5871.6              5454.5              5201.8   \n",
       "4              5871.6              5454.5              5201.8   \n",
       "\n",
       "  SeqCopy_32MB_by256  SeqCopy_48MB_by256  SeqCopy_64MB_by256  \\\n",
       "0             5236.4              5724.8              5236.4   \n",
       "1             5236.4              5724.8              5236.4   \n",
       "2             5236.4              5724.8              5236.4   \n",
       "3             5236.4              5724.8              5236.4   \n",
       "4             5236.4              5724.8              5236.4   \n",
       "\n",
       "  SeqCopy_72MB_by256 SeqCopy_96MB_by256  SeqCopy_128MB_by256      time  \n",
       "0             5236.4             6165.1               5120.0  1.016325  \n",
       "1             5236.4             6165.1               5120.0  1.108012  \n",
       "2             5236.4             6165.1               5120.0  1.388898  \n",
       "3             5236.4             6165.1               5120.0  1.368330  \n",
       "4             5236.4             6165.1               5120.0  1.496602  \n",
       "\n",
       "[5 rows x 952 columns]"
      ]
     },
     "execution_count": 2,
     "metadata": {},
     "output_type": "execute_result"
    }
   ],
   "source": [
    "x_train = pd.read_csv('x_train.csv')\n",
    "x_test = pd.read_csv('x_test.csv')\n",
    "y_train = pd.read_csv('y_train.csv')\n",
    "\n",
    "data = pd.concat( [x_train, y_train], axis=1 ).drop([2583, 2584, 2586, 2587, 2622]) # drop few outliers\n",
    "data.head()"
   ]
  },
  {
   "cell_type": "markdown",
   "metadata": {},
   "source": [
    "## Algorithm outline\n",
    "\n",
    "- Group data by system parameters. There are 92 groups, which are the same for train and test set.\n",
    "- Fit a Linear Regression (see details below) for each group using matrix size as features, so there are 92 regressors.\n",
    "- To make a prediction, select a group by system parameters and use corresponding regressor."
   ]
  },
  {
   "cell_type": "code",
   "execution_count": 3,
   "metadata": {
    "collapsed": false
   },
   "outputs": [],
   "source": [
    "features = x_train.columns[:3].tolist() # 'm', 'k' and 'n' are features used to fit the regression\n",
    "system_params = x_train.columns[3:].tolist() # other columns define system parameters\n",
    "\n",
    "data_grouped = data.groupby(system_params)\n",
    "systems = pd.DataFrame([n for n, g in data_grouped], columns=system_params)"
   ]
  },
  {
   "cell_type": "markdown",
   "metadata": {},
   "source": [
    "## Linear regression details\n",
    "\n",
    "Consider a design matrix $\\pmb X$ consisting of $N$ training examples $x^{(i)} = \n",
    "\\begin{pmatrix}\n",
    "m^{(i)} & k^{(i)} & n^{(i)}\n",
    "\\end{pmatrix}$.\n",
    "\n",
    "Assume the following model:\n",
    "\n",
    "$$\\hat y_\\theta = \\theta_0 \\, m^{\\theta_1} k^{\\theta_2} n^{\\theta_3}$$\n",
    "\n",
    "If we take a logarithm, we can rewrite this as \n",
    "\n",
    "$$\\log \\hat y_\\theta = \\log \\theta_0 + \\theta_1 \\log m + \\theta_2 \\log k + \\theta_3 \\log n = \\log \\pmb X \\cdot \\pmb\\theta + intercept,$$\n",
    "\n",
    "so we have a linear regression between $\\log \\hat y_\\theta$ and $\\log \\pmb X$ with respect to parameters vector $\\pmb\\theta$ and intercept term.\n",
    "\n",
    "Instead of ordinary least squares, let's take a MRE as objective function:\n",
    "\n",
    "$$\n",
    "J(\\theta) = \n",
    "\\frac1N \\sum\\limits_{i=1}^N \\left| \\frac{ \\hat y_\\theta^{(i)} - y^{(i)} }{y^{(i)}} \\right| = \n",
    "\\frac1N \\sum\\limits_{i=1}^N \\left| \\frac{\\hat y_\\theta^{(i)}}{y^{(i)}} - 1 \\right| = \n",
    "\\frac1N \\sum\\limits_{i=1}^N \\left| e ^ {\\displaystyle \\log \\hat y_\\theta^{(i)} - \\log y^{(i)}} - 1 \\right| =\n",
    "\\frac1N \\sum\\limits_{i=1}^N \\left| e ^ {\\displaystyle \\log \\pmb X^{(i)} \\cdot \\pmb\\theta + intercept - \\log y^{(i)}} - 1 \\right| \\to \\min\\limits_\\theta\n",
    "$$\n",
    "\n",
    "This function is non-convex and hard to minimize, but good results can be obtained using Nelder-Mead method with initial guess $\\pmb\\theta_{init} = \\pmb 1$, $intercept_{init} = \\frac1N \\sum\\limits_{i=1}^N \\left( \\log y^{(i)} - \\log \\pmb X^{(i)} \\cdot \\pmb\\theta \\right)$, which comes from OLS-solution for $\\hat y_\\theta = \\theta \\, m k n$."
   ]
  },
  {
   "cell_type": "code",
   "execution_count": 4,
   "metadata": {
    "collapsed": false
   },
   "outputs": [],
   "source": [
    "class MRELogLinearRegression:\n",
    "    def _errFunc(self, C, X, y):\n",
    "        return np.mean( np.abs(np.exp( np.log(X).dot(C[:-1]) + C[-1] - np.log(y) ) - 1) )\n",
    "    \n",
    "    def fit(self, X, y):\n",
    "        Cinit = np.ones((X.shape[1] + 1,))\n",
    "        Cinit[-1] = np.mean( np.log(y) - np.log(X).dot(Cinit[:-1]) )\n",
    "        self.C = minimize(self._errFunc,\n",
    "                          Cinit,\n",
    "                          (X, y),\n",
    "                          method='Nelder-Mead').x\n",
    "        \n",
    "    def predict(self, X):\n",
    "        return np.exp( np.log(X).dot(self.C[:-1]) + self.C[-1] )\n",
    "    \n",
    "    def MREscore(self, X, y):\n",
    "        return np.mean( np.abs( self.predict(X) - y ) / y )"
   ]
  },
  {
   "cell_type": "code",
   "execution_count": 5,
   "metadata": {
    "collapsed": false
   },
   "outputs": [
    {
     "name": "stdout",
     "output_type": "stream",
     "text": [
      "[90 65 85  0 89 72 71  6 77  2 67 87  4 83 79 68 70 91 30 48  1 69 75 43 78\n",
      " 57 36 44 66 53  5  3 16 23 54 74 13 45 61 11 76  7 49 52 50 31 28 60 82 10\n",
      " 14 17 55 38 18 21 25 73 62  9 58 34 88 32  8 46 51 22 15 40 35 12 56 33 63\n",
      " 20 37 29 64 81 24 39 27 86 41 19 42 80 47 26 84 59]\n"
     ]
    },
    {
     "data": {
      "image/png": "[encoded data removed]",
      "text/plain": [
       "<matplotlib.figure.Figure at 0xb858898>"
      ]
     },
     "metadata": {},
     "output_type": "display_data"
    }
   ],
   "source": [
    "regressors = {}\n",
    "errors = []\n",
    "for n, g in data_grouped: \n",
    "    rgr = MRELogLinearRegression()\n",
    "    rgr.fit(g[features].values, g.time.values)\n",
    "    regressors[n] = rgr\n",
    "    errors.append( rgr.MREscore(g[features].values, g.time.values) )\n",
    "systems['error'] = errors\n",
    "print(np.argsort(errors))\n",
    "plt.bar(range(len(errors)), np.sort(errors))\n",
    "plt.grid()"
   ]
  },
  {
   "cell_type": "code",
   "execution_count": 6,
   "metadata": {
    "collapsed": false
   },
   "outputs": [
    {
     "data": {
      "text/plain": [
       "0.049787215146016243"
      ]
     },
     "execution_count": 6,
     "metadata": {},
     "output_type": "execute_result"
    }
   ],
   "source": [
    "y_train_pred = x_train.apply(lambda x: regressors[tuple(x[system_params])].predict(x[features].astype('float64').values), axis=1)\n",
    "np.mean(np.abs(y_train_pred - y_train.time) / y_train.time)"
   ]
  },
  {
   "cell_type": "code",
   "execution_count": 7,
   "metadata": {
    "collapsed": false
   },
   "outputs": [],
   "source": [
    "y_test_pred = x_test.apply(lambda x: regressors[tuple(x[system_params])].predict(x[features].astype('float64').values), axis=1)\n",
    "y_test_pred.to_csv('log-metric-linear-regression-m-k-n', index=False)"
   ]
  }
 ],
 "metadata": {
  "anaconda-cloud": {},
  "kernelspec": {
   "display_name": "Python [Root]",
   "language": "python",
   "name": "Python [Root]"
  },
  "language_info": {
   "codemirror_mode": {
    "name": "ipython",
    "version": 3
   },
   "file_extension": ".py",
   "mimetype": "text/x-python",
   "name": "python",
   "nbconvert_exporter": "python",
   "pygments_lexer": "ipython3",
   "version": "3.5.2"
  }
 },
 "nbformat": 4,
 "nbformat_minor": 0
}
